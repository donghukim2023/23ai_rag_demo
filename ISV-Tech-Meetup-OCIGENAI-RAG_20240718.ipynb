{
 "cells": [
  {
   "cell_type": "markdown",
   "id": "1e322051-e7df-4351-aed3-611861fd5ba7",
   "metadata": {},
   "source": [
    "## Oracle 23ai Vector Store와 OCI GEN AI LLM (Cohere Command R+)을 활용한 RAG 구현"
   ]
  },
  {
   "cell_type": "markdown",
   "id": "f7f5854d-fef8-493e-8a5e-c92b6d4dab1b",
   "metadata": {
    "jp-MarkdownHeadingCollapsed": true,
    "scrolled": true
   },
   "source": [
    "### 1. Oracle Database 23ai 접속"
   ]
  },
  {
   "cell_type": "code",
   "execution_count": 28,
   "id": "1672590f-1923-4a5d-a01b-718a56bc4ca5",
   "metadata": {
    "scrolled": true
   },
   "outputs": [
    {
     "name": "stdout",
     "output_type": "stream",
     "text": [
      "\n",
      "Connected to the Oracle Database 23.4.\n",
      "\n"
     ]
    }
   ],
   "source": [
    "import os\n",
    "import time\n",
    "import oracledb\n",
    "import configparser\n",
    "config = configparser.ConfigParser()\n",
    "config.read(\"oci.env\")\n",
    "\n",
    "username = config[\"DATABASE\"][\"USERNAME\"]\n",
    "password = config[\"DATABASE\"][\"PASSWORD\"]\n",
    "host = config[\"DATABASE\"][\"HOST\"]\n",
    "port = config[\"DATABASE\"][\"PORT\"]\n",
    "service_name = config[\"DATABASE\"][\"SERVICE_NAME\"]\n",
    "table_name = config[\"DATABASE\"][\"TABLE_NAME_CV_LANG\"]\n",
    "compartment_id = config[\"OCI\"][\"compartment_id\"]\n",
    "dsn=host+\":\"+port+\"/\"+service_name\n",
    "upstage_api_key=config[\"APIKEY\"][\"UPSTAGE_API_KEY\"]\n",
    "\n",
    "try:\n",
    "    oracledb.init_oracle_client()\n",
    "    connection = oracledb.connect(user=username, password=password, dsn=dsn)\n",
    "    print(\"\\nConnected to the Oracle Database 23.4.\\n\")\n",
    "except Exception as e:\n",
    "    print(e)\n",
    "    print(\"\\nConnection failed!\\n\")\n",
    "    "
   ]
  },
  {
   "cell_type": "markdown",
   "id": "edf3fb74-7c9f-407d-94f6-9461c11c9b2a",
   "metadata": {
    "jp-MarkdownHeadingCollapsed": true
   },
   "source": [
    "### 2. Load the document\n",
    "#### 텍스트 추출: Oracle Doc Loader, Oracle Text Splitter 사용"
   ]
  },
  {
   "cell_type": "code",
   "execution_count": 29,
   "id": "6b2c1b25-021c-4b0d-9115-9e10b916737e",
   "metadata": {
    "scrolled": true
   },
   "outputs": [
    {
     "name": "stdout",
     "output_type": "stream",
     "text": [
      "Number of docs loaded: 1\n",
      "Doc 1: chunks# 89\n",
      "Doc 1: page_content: ··························································6 2. 기업/산업 ▹ 스태빌리티AI, 차세대 이미지 생성 AI '스테이블 디퓨전 3' 프리뷰 버전 공개 ·················7 ▹ 오픈AI, metadata: {'SOURCE MIME TYPE': 'application/pdf', 'creation date': '4/8/2024 12:46:55 AM', 'author': 'spri', 'revision date': '4/8/2024 12:46:55 AM', 'Creator': '\\rHwp 2018 10.0.0.13764', 'publisher': 'Hancom PDF 1.3.0.542', 'PDFVersion': '\\r1.4', '_oid': '6692c7e26aa918ee066f7ec27b26bfd4', '_file': '/home/opc/23ai_rag_demo/app/pdfs/SPRi_AI_Brief_4.pdf', 'id': '5', 'document_id': '1'}\n"
     ]
    }
   ],
   "source": [
    "from langchain_community.document_loaders.oracleai import OracleTextSplitter \n",
    "from langchain_community.document_loaders.oracleai import OracleDocLoader\n",
    "from langchain_core.documents import Document\n",
    "\n",
    "pdf_file=\"/home/opc/23ai_rag_demo/app/pdfs/SPRi_AI_Brief_4.pdf\"\n",
    "\n",
    "splitter_params = {\"BY\" :\"words\", \"MAX\": 200, \"OVERLAP\": 10, \"SPLIT\": \"sentence\", \"LANGUAGE\": \"KOREAN\", \"NORMALIZE\": \"all\"}\n",
    "splitter = OracleTextSplitter(conn=connection, params=splitter_params)\n",
    "\n",
    "chunks_with_mdata = []\n",
    "doc_origin = Document\n",
    "max_lengh_oracle_allow=9000\n",
    "counter = 0  \n",
    "document_num = 0\n",
    "\n",
    "loader_params = {}        \n",
    "loader_params['file'] = pdf_file\n",
    "# instantiate loader, splitter and embedder\n",
    "loader = OracleDocLoader(conn=connection, params=loader_params)\n",
    "\n",
    "# read the docs, convert blob docs to clob docs\n",
    "docs = loader.load()\n",
    "print(f\"Number of docs loaded: {len(docs)}\")\n",
    "\n",
    "for id, doc in enumerate(docs, start=1):\n",
    "    #remove line break from the text document\n",
    "    doc.page_content = doc.page_content.replace(\"\\n\", \"\")\n",
    "    doc_origin.page_content = doc.page_content\n",
    "    # check the doc\n",
    "    if len(doc.page_content)>max_lengh_oracle_allow :\n",
    "        #reduce the text to max_lengh_oracle_allow\n",
    "        doc.page_content = doc.page_content[:9000]\n",
    "    document_num += 1\n",
    "    \n",
    "    # chunk the doc\n",
    "    chunks = splitter.split_text(doc_origin.page_content)\n",
    "    print(f\"Doc {id}: chunks# {len(chunks)}\")\n",
    "\n",
    "#For each chunk create chunk_metadata with \n",
    "for ic, chunk in enumerate(chunks, start=1):\n",
    "    counter += 1  \n",
    "    chunk_metadata = doc.metadata.copy()  \n",
    "    chunk_metadata['id'] = str(counter)  \n",
    "    chunk_metadata['document_id'] = str(document_num)\n",
    "    # chunk_metadata['document_summary'] = str(summ[0])\n",
    "    chunks_with_mdata.append(Document(page_content=str(chunk), metadata=chunk_metadata))\n",
    "\n",
    "print(f\"Doc {id}: page_content: { chunks_with_mdata[4].page_content} metadata: {chunks_with_mdata[4].metadata}\")"
   ]
  },
  {
   "cell_type": "markdown",
   "id": "551f66c2-5d51-4c3f-8d33-fa1c49383d10",
   "metadata": {
    "jp-MarkdownHeadingCollapsed": true
   },
   "source": [
    "### 3. Embedding 및 벡터 데이터베이스에 입력\n",
    "#### Embedding Model: OCI GenAI cohere.embed-multilingual-v3.0"
   ]
  },
  {
   "cell_type": "code",
   "execution_count": 30,
   "id": "257bfda1-1266-4cd8-913c-d4ec4f3c6587",
   "metadata": {
    "scrolled": true
   },
   "outputs": [
    {
     "name": "stdout",
     "output_type": "stream",
     "text": [
      "Documents loading, chunking and generating embeddings are complete.\n",
      "Vectorizing and inserting chunks duration: 2.6 sec.\n"
     ]
    }
   ],
   "source": [
    "from langchain_community.embeddings import OCIGenAIEmbeddings\n",
    "from langchain_community.vectorstores.utils import DistanceStrategy\n",
    "from langchain_community.embeddings.oracleai import OracleEmbeddings\n",
    "from langchain_community.vectorstores import oraclevs\n",
    "from langchain_community.vectorstores.oraclevs import OracleVS\n",
    "\n",
    "embedder = OCIGenAIEmbeddings(\n",
    "            model_id=\"cohere.embed-multilingual-v3.0\",\n",
    "            service_endpoint=\"https://inference.generativeai.us-chicago-1.oci.oraclecloud.com\",\n",
    "            compartment_id= compartment_id)\n",
    "distance_strategy=DistanceStrategy.COSINE    #COSINE\n",
    "table_name_with_strategy = table_name+'_'+distance_strategy\n",
    "\n",
    "s1time = time.time()\n",
    "vector_store = OracleVS.from_documents(chunks_with_mdata, embedder, client=connection, table_name=table_name_with_strategy, distance_strategy=distance_strategy)\n",
    "\n",
    "### Create Oracle HNSW Index\n",
    "oraclevs.create_index(client=connection,vector_store=vector_store, params={\n",
    "    \"idx_name\": \"hnsw\"+table_name_with_strategy, \"idx_type\": \"HNSW\"\n",
    "})\n",
    "s2time = time.time()\n",
    "\n",
    "if vector_store is not None:\n",
    "    print( f\"Documents loading, chunking and generating embeddings are complete.\\nVectorizing and inserting chunks duration: {round(s2time - s1time, 1)} sec.\")\n",
    "else:\n",
    "    print(\"\\nFailed to get the VectorStore populated.\\n\")"
   ]
  },
  {
   "cell_type": "markdown",
   "id": "bd8ba42f-52f3-4630-88bd-cf6321290f42",
   "metadata": {
    "jp-MarkdownHeadingCollapsed": true
   },
   "source": [
    "### 4. Retriever 생성 및 및 유사도 검색\n",
    "#### Embedding Model: OCI GenAI cohere.embed-multilingual-v3.0"
   ]
  },
  {
   "cell_type": "code",
   "execution_count": 31,
   "id": "0aee0a5a-29b1-4eae-9415-8722cdba0bc4",
   "metadata": {},
   "outputs": [
    {
     "name": "stdout",
     "output_type": "stream",
     "text": [
      "result_chunks=[Document(metadata={'SOURCE MIME TYPE': 'application/pdf', 'creation date': '4/8/2024 12:46:55 AM', 'author': 'spri', 'revision date': '4/8/2024 12:46:55 AM', 'Creator': '\\rHwp 2018 10.0.0.13764', 'publisher': 'Hancom PDF 1.3.0.542', 'PDFVersion': '\\r1.4', '_oid': '6692c7e26aa918ee066f7ec27b26bfd4', '_file': '/home/opc/23ai_rag_demo/app/pdfs/SPRi_AI_Brief_4.pdf', 'id': '1', 'document_id': '1'}, page_content='2024년 4월호2024년 4월호Ⅰ.인공지능 산업 동향 브리프 1. 정책/법제 ▹ 유럽의회 본회의에서 세계 최초의 AI 법 통과 ·····································································1 ▹ 유럽평의회,'), Document(metadata={'SOURCE MIME TYPE': 'application/pdf', 'creation date': '4/8/2024 12:46:55 AM', 'author': 'spri', 'revision date': '4/8/2024 12:46:55 AM', 'Creator': '\\rHwp 2018 10.0.0.13764', 'publisher': 'Hancom PDF 1.3.0.542', 'PDFVersion': '\\r1.4', '_oid': '6692c7e26aa918ee066f7ec27b26bfd4', '_file': '/home/opc/23ai_rag_demo/app/pdfs/SPRi_AI_Brief_4.pdf', 'id': '19', 'document_id': '1'}, page_content='··············17Ⅰ. 인공지능 산업 동향 브리프1. 정책/법제 2. 기업/산업 3. 기술/연구 4. 인력/교육1유럽의회 본회의에서 세계 최초의 AI 법 통과 n 유럽의회에서 AI 법이 본회의 표결을 통과하여 EU 회원국 승인을 거쳐 올해 안에 발효 예정으로, 발효 후 단계적으로 도입되어 2년 후 전면 시행됨 n EU 집행위 산하에 신설된 유럽 AI 사무국이 EU 회원국 전반에 걸쳐 AI 법의 일관된 적용을 위한 핵심적인 역할을 수행할 전망 KEY Contents £ 유럽의회, 찬성'), Document(metadata={'SOURCE MIME TYPE': 'application/pdf', 'creation date': '4/8/2024 12:46:55 AM', 'author': 'spri', 'revision date': '4/8/2024 12:46:55 AM', 'Creator': '\\rHwp 2018 10.0.0.13764', 'publisher': 'Hancom PDF 1.3.0.542', 'PDFVersion': '\\r1.4', '_oid': '6692c7e26aa918ee066f7ec27b26bfd4', '_file': '/home/opc/23ai_rag_demo/app/pdfs/SPRi_AI_Brief_4.pdf', 'id': '20', 'document_id': '1'}, page_content='523표와 반대 46표의 압도적 찬성으로 AI 법(AI Act) 가결 n 유럽의회 본회의에서 2024년 3월 13일 AI 법을 찬성 523표, 반대 46표, 기권 49표의 압도적 찬성으로 가결했으며, EU 회원국 승인을 얻어 올해 안에 발효될 예정 ∙ AI 법은 고위험 AI로부터 기본권, 민주주의, 법치, 환경 지속 가능성을 보호하는 동시에 혁신을 촉진하여 유럽을 글로벌 AI 리더로 자리매김하는 것을 목표로 함 ∙ AI 법은 EU 회원국의 승인을 거쳐 관보 게재 20일 후에 발효되며, 발효 후 단계적으로 도입되어 2년 뒤 전면적으로 시행 예정 n AI'), Document(metadata={'SOURCE MIME TYPE': 'application/pdf', 'creation date': '4/8/2024 12:46:55 AM', 'author': 'spri', 'revision date': '4/8/2024 12:46:55 AM', 'Creator': '\\rHwp 2018 10.0.0.13764', 'publisher': 'Hancom PDF 1.3.0.542', 'PDFVersion': '\\r1.4', '_oid': '6692c7e26aa918ee066f7ec27b26bfd4', '_file': '/home/opc/23ai_rag_demo/app/pdfs/SPRi_AI_Brief_4.pdf', 'id': '3', 'document_id': '1'}, page_content='·······································3 ▹ 뉴욕주를 비롯한 미국 주정부들, AI 선거조작 방지법안 추진 ·············································4 ▹ 주요 AI 모델의')]\n",
      "Search for the user question in the Oracle Database 23ai and return similar chunks duration: 0.2 sec.\n"
     ]
    }
   ],
   "source": [
    "vector_store = OracleVS(client=connection, \n",
    "                        embedding_function=embedder, \n",
    "                        table_name=table_name_with_strategy, \n",
    "                        distance_strategy=distance_strategy)\n",
    "\n",
    "user_question = (\"최초의 AI법은 언제 통과 되었니? 출처나 참고 문서도 같이 알려줘.\");\n",
    "\n",
    "if user_question:\n",
    "    s1time =  time.time()\n",
    "    result_chunks = vector_store.similarity_search(user_question)\n",
    "    s2time = time.time()\n",
    "    print(f\"result_chunks={result_chunks}\\nSearch for the user question in the Oracle Database 23ai and return similar chunks duration: {round(s2time - s1time, 1)} sec.\")\n"
   ]
  },
  {
   "cell_type": "markdown",
   "id": "b97e53dc-5aee-47f8-9b59-0cf65e23b878",
   "metadata": {
    "jp-MarkdownHeadingCollapsed": true
   },
   "source": [
    "### 5. Langchain RAG\n",
    "#### Vector Store Retriver cohere.command-r-plus LLM 모델 및  사용"
   ]
  },
  {
   "cell_type": "code",
   "execution_count": 34,
   "id": "76822773-5b47-4290-ac8f-11974e13b319",
   "metadata": {},
   "outputs": [
    {
     "name": "stderr",
     "output_type": "stream",
     "text": [
      "2024-07-13 18:38:42,778 - ERROR - An unexpected error occurred: ORA-51808: VECTOR_DISTANCE() is not supported for vectors with different dimension counts (4096, 1024).\n",
      "Help: https://docs.oracle.com/error-help/db/ora-51808/\n",
      "Traceback (most recent call last):\n",
      "  File \"/home/opc/miniconda3/envs/23ai_rag_demo/lib/python3.12/site-packages/langchain_community/vectorstores/oraclevs.py\", line 54, in wrapper\n",
      "    return func(*args, **kwargs)\n",
      "           ^^^^^^^^^^^^^^^^^^^^^\n",
      "  File \"/home/opc/miniconda3/envs/23ai_rag_demo/lib/python3.12/site-packages/langchain_community/vectorstores/oraclevs.py\", line 722, in similarity_search_by_vector_with_relevance_scores\n",
      "    cursor.execute(query, embedding=embedding_arr)\n",
      "  File \"/home/opc/miniconda3/envs/23ai_rag_demo/lib/python3.12/site-packages/oracledb/cursor.py\", line 701, in execute\n",
      "    impl.execute(self)\n",
      "  File \"src/oracledb/impl/thick/cursor.pyx\", line 306, in oracledb.thick_impl.ThickCursorImpl.execute\n",
      "  File \"src/oracledb/impl/thick/utils.pyx\", line 456, in oracledb.thick_impl._raise_from_odpi\n",
      "  File \"src/oracledb/impl/thick/utils.pyx\", line 446, in oracledb.thick_impl._raise_from_info\n",
      "oracledb.exceptions.DatabaseError: ORA-51808: VECTOR_DISTANCE() is not supported for vectors with different dimension counts (4096, 1024).\n",
      "Help: https://docs.oracle.com/error-help/db/ora-51808/\n"
     ]
    },
    {
     "ename": "RuntimeError",
     "evalue": "Unexpected error: ORA-51808: VECTOR_DISTANCE() is not supported for vectors with different dimension counts (4096, 1024).\nHelp: https://docs.oracle.com/error-help/db/ora-51808/",
     "output_type": "error",
     "traceback": [
      "\u001b[0;31m---------------------------------------------------------------------------\u001b[0m",
      "\u001b[0;31mDatabaseError\u001b[0m                             Traceback (most recent call last)",
      "File \u001b[0;32m~/miniconda3/envs/23ai_rag_demo/lib/python3.12/site-packages/langchain_community/vectorstores/oraclevs.py:54\u001b[0m, in \u001b[0;36m_handle_exceptions.<locals>.wrapper\u001b[0;34m(*args, **kwargs)\u001b[0m\n\u001b[1;32m     53\u001b[0m \u001b[38;5;28;01mtry\u001b[39;00m:\n\u001b[0;32m---> 54\u001b[0m     \u001b[38;5;28;01mreturn\u001b[39;00m \u001b[43mfunc\u001b[49m\u001b[43m(\u001b[49m\u001b[38;5;241;43m*\u001b[39;49m\u001b[43margs\u001b[49m\u001b[43m,\u001b[49m\u001b[43m \u001b[49m\u001b[38;5;241;43m*\u001b[39;49m\u001b[38;5;241;43m*\u001b[39;49m\u001b[43mkwargs\u001b[49m\u001b[43m)\u001b[49m\n\u001b[1;32m     55\u001b[0m \u001b[38;5;28;01mexcept\u001b[39;00m \u001b[38;5;167;01mRuntimeError\u001b[39;00m \u001b[38;5;28;01mas\u001b[39;00m db_err:\n\u001b[1;32m     56\u001b[0m     \u001b[38;5;66;03m# Handle a known type of error (e.g., DB-related) specifically\u001b[39;00m\n",
      "File \u001b[0;32m~/miniconda3/envs/23ai_rag_demo/lib/python3.12/site-packages/langchain_community/vectorstores/oraclevs.py:722\u001b[0m, in \u001b[0;36mOracleVS.similarity_search_by_vector_with_relevance_scores\u001b[0;34m(self, embedding, k, filter, **kwargs)\u001b[0m\n\u001b[1;32m    721\u001b[0m \u001b[38;5;28;01mwith\u001b[39;00m \u001b[38;5;28mself\u001b[39m\u001b[38;5;241m.\u001b[39mclient\u001b[38;5;241m.\u001b[39mcursor() \u001b[38;5;28;01mas\u001b[39;00m cursor:\n\u001b[0;32m--> 722\u001b[0m     \u001b[43mcursor\u001b[49m\u001b[38;5;241;43m.\u001b[39;49m\u001b[43mexecute\u001b[49m\u001b[43m(\u001b[49m\u001b[43mquery\u001b[49m\u001b[43m,\u001b[49m\u001b[43m \u001b[49m\u001b[43membedding\u001b[49m\u001b[38;5;241;43m=\u001b[39;49m\u001b[43membedding_arr\u001b[49m\u001b[43m)\u001b[49m\n\u001b[1;32m    723\u001b[0m     results \u001b[38;5;241m=\u001b[39m cursor\u001b[38;5;241m.\u001b[39mfetchall()\n",
      "File \u001b[0;32m~/miniconda3/envs/23ai_rag_demo/lib/python3.12/site-packages/oracledb/cursor.py:701\u001b[0m, in \u001b[0;36mCursor.execute\u001b[0;34m(self, statement, parameters, **keyword_parameters)\u001b[0m\n\u001b[1;32m    700\u001b[0m impl \u001b[38;5;241m=\u001b[39m \u001b[38;5;28mself\u001b[39m\u001b[38;5;241m.\u001b[39m_impl\n\u001b[0;32m--> 701\u001b[0m \u001b[43mimpl\u001b[49m\u001b[38;5;241;43m.\u001b[39;49m\u001b[43mexecute\u001b[49m\u001b[43m(\u001b[49m\u001b[38;5;28;43mself\u001b[39;49m\u001b[43m)\u001b[49m\n\u001b[1;32m    702\u001b[0m \u001b[38;5;28;01mif\u001b[39;00m impl\u001b[38;5;241m.\u001b[39mfetch_vars \u001b[38;5;129;01mis\u001b[39;00m \u001b[38;5;129;01mnot\u001b[39;00m \u001b[38;5;28;01mNone\u001b[39;00m:\n",
      "File \u001b[0;32msrc/oracledb/impl/thick/cursor.pyx:306\u001b[0m, in \u001b[0;36moracledb.thick_impl.ThickCursorImpl.execute\u001b[0;34m()\u001b[0m\n",
      "File \u001b[0;32msrc/oracledb/impl/thick/utils.pyx:456\u001b[0m, in \u001b[0;36moracledb.thick_impl._raise_from_odpi\u001b[0;34m()\u001b[0m\n",
      "File \u001b[0;32msrc/oracledb/impl/thick/utils.pyx:446\u001b[0m, in \u001b[0;36moracledb.thick_impl._raise_from_info\u001b[0;34m()\u001b[0m\n",
      "\u001b[0;31mDatabaseError\u001b[0m: ORA-51808: VECTOR_DISTANCE() is not supported for vectors with different dimension counts (4096, 1024).\nHelp: https://docs.oracle.com/error-help/db/ora-51808/",
      "\nThe above exception was the direct cause of the following exception:\n",
      "\u001b[0;31mRuntimeError\u001b[0m                              Traceback (most recent call last)",
      "Cell \u001b[0;32mIn[34], line 29\u001b[0m\n\u001b[1;32m     23\u001b[0m chain \u001b[38;5;241m=\u001b[39m {\n\u001b[1;32m     24\u001b[0m \u001b[38;5;124m\"\u001b[39m\u001b[38;5;124mcontext\u001b[39m\u001b[38;5;124m\"\u001b[39m: vector_store\u001b[38;5;241m.\u001b[39mas_retriever(search_kwargs\u001b[38;5;241m=\u001b[39m{\u001b[38;5;124m'\u001b[39m\u001b[38;5;124mk\u001b[39m\u001b[38;5;124m'\u001b[39m:\u001b[38;5;241m3\u001b[39m}),\n\u001b[1;32m     25\u001b[0m \u001b[38;5;124m\"\u001b[39m\u001b[38;5;124mhuman\u001b[39m\u001b[38;5;124m\"\u001b[39m: RunnablePassthrough(),\n\u001b[1;32m     26\u001b[0m } \u001b[38;5;241m|\u001b[39m prompt \u001b[38;5;241m|\u001b[39m chat \u001b[38;5;241m|\u001b[39m StrOutputParser()\n\u001b[1;32m     28\u001b[0m s1time\u001b[38;5;241m=\u001b[39mtime\u001b[38;5;241m.\u001b[39mtime()\n\u001b[0;32m---> 29\u001b[0m response \u001b[38;5;241m=\u001b[39m \u001b[43mchain\u001b[49m\u001b[38;5;241;43m.\u001b[39;49m\u001b[43minvoke\u001b[49m\u001b[43m(\u001b[49m\u001b[43muser_question\u001b[49m\u001b[43m)\u001b[49m\n\u001b[1;32m     30\u001b[0m s2time\u001b[38;5;241m=\u001b[39mtime\u001b[38;5;241m.\u001b[39mtime()\n\u001b[1;32m     32\u001b[0m \u001b[38;5;28mprint\u001b[39m( \u001b[38;5;124mf\u001b[39m\u001b[38;5;124m\"\u001b[39m\u001b[38;5;124mresponse=\u001b[39m\u001b[38;5;132;01m{\u001b[39;00mresponse\u001b[38;5;132;01m}\u001b[39;00m\u001b[38;5;130;01m\\n\u001b[39;00m\u001b[38;5;124mSend user question and ranked chunks to LLM and get answer duration: \u001b[39m\u001b[38;5;132;01m{\u001b[39;00m\u001b[38;5;28mround\u001b[39m(s2time\u001b[38;5;250m \u001b[39m\u001b[38;5;241m-\u001b[39m\u001b[38;5;250m \u001b[39ms1time,\u001b[38;5;250m \u001b[39m\u001b[38;5;241m1\u001b[39m)\u001b[38;5;132;01m}\u001b[39;00m\u001b[38;5;124m sec.\u001b[39m\u001b[38;5;124m\"\u001b[39m)\n",
      "File \u001b[0;32m~/miniconda3/envs/23ai_rag_demo/lib/python3.12/site-packages/langchain_core/runnables/base.py:2574\u001b[0m, in \u001b[0;36mRunnableSequence.invoke\u001b[0;34m(self, input, config, **kwargs)\u001b[0m\n\u001b[1;32m   2570\u001b[0m config \u001b[38;5;241m=\u001b[39m patch_config(\n\u001b[1;32m   2571\u001b[0m     config, callbacks\u001b[38;5;241m=\u001b[39mrun_manager\u001b[38;5;241m.\u001b[39mget_child(\u001b[38;5;124mf\u001b[39m\u001b[38;5;124m\"\u001b[39m\u001b[38;5;124mseq:step:\u001b[39m\u001b[38;5;132;01m{\u001b[39;00mi\u001b[38;5;241m+\u001b[39m\u001b[38;5;241m1\u001b[39m\u001b[38;5;132;01m}\u001b[39;00m\u001b[38;5;124m\"\u001b[39m)\n\u001b[1;32m   2572\u001b[0m )\n\u001b[1;32m   2573\u001b[0m \u001b[38;5;28;01mif\u001b[39;00m i \u001b[38;5;241m==\u001b[39m \u001b[38;5;241m0\u001b[39m:\n\u001b[0;32m-> 2574\u001b[0m     \u001b[38;5;28minput\u001b[39m \u001b[38;5;241m=\u001b[39m \u001b[43mstep\u001b[49m\u001b[38;5;241;43m.\u001b[39;49m\u001b[43minvoke\u001b[49m\u001b[43m(\u001b[49m\u001b[38;5;28;43minput\u001b[39;49m\u001b[43m,\u001b[49m\u001b[43m \u001b[49m\u001b[43mconfig\u001b[49m\u001b[43m,\u001b[49m\u001b[43m \u001b[49m\u001b[38;5;241;43m*\u001b[39;49m\u001b[38;5;241;43m*\u001b[39;49m\u001b[43mkwargs\u001b[49m\u001b[43m)\u001b[49m\n\u001b[1;32m   2575\u001b[0m \u001b[38;5;28;01melse\u001b[39;00m:\n\u001b[1;32m   2576\u001b[0m     \u001b[38;5;28minput\u001b[39m \u001b[38;5;241m=\u001b[39m step\u001b[38;5;241m.\u001b[39minvoke(\u001b[38;5;28minput\u001b[39m, config)\n",
      "File \u001b[0;32m~/miniconda3/envs/23ai_rag_demo/lib/python3.12/site-packages/langchain_core/runnables/base.py:3221\u001b[0m, in \u001b[0;36mRunnableParallel.invoke\u001b[0;34m(self, input, config)\u001b[0m\n\u001b[1;32m   3208\u001b[0m     \u001b[38;5;28;01mwith\u001b[39;00m get_executor_for_config(config) \u001b[38;5;28;01mas\u001b[39;00m executor:\n\u001b[1;32m   3209\u001b[0m         futures \u001b[38;5;241m=\u001b[39m [\n\u001b[1;32m   3210\u001b[0m             executor\u001b[38;5;241m.\u001b[39msubmit(\n\u001b[1;32m   3211\u001b[0m                 step\u001b[38;5;241m.\u001b[39minvoke,\n\u001b[0;32m   (...)\u001b[0m\n\u001b[1;32m   3219\u001b[0m             \u001b[38;5;28;01mfor\u001b[39;00m key, step \u001b[38;5;129;01min\u001b[39;00m steps\u001b[38;5;241m.\u001b[39mitems()\n\u001b[1;32m   3220\u001b[0m         ]\n\u001b[0;32m-> 3221\u001b[0m         output \u001b[38;5;241m=\u001b[39m {key: \u001b[43mfuture\u001b[49m\u001b[38;5;241;43m.\u001b[39;49m\u001b[43mresult\u001b[49m\u001b[43m(\u001b[49m\u001b[43m)\u001b[49m \u001b[38;5;28;01mfor\u001b[39;00m key, future \u001b[38;5;129;01min\u001b[39;00m \u001b[38;5;28mzip\u001b[39m(steps, futures)}\n\u001b[1;32m   3222\u001b[0m \u001b[38;5;66;03m# finish the root run\u001b[39;00m\n\u001b[1;32m   3223\u001b[0m \u001b[38;5;28;01mexcept\u001b[39;00m \u001b[38;5;167;01mBaseException\u001b[39;00m \u001b[38;5;28;01mas\u001b[39;00m e:\n",
      "File \u001b[0;32m~/miniconda3/envs/23ai_rag_demo/lib/python3.12/concurrent/futures/_base.py:456\u001b[0m, in \u001b[0;36mFuture.result\u001b[0;34m(self, timeout)\u001b[0m\n\u001b[1;32m    454\u001b[0m     \u001b[38;5;28;01mraise\u001b[39;00m CancelledError()\n\u001b[1;32m    455\u001b[0m \u001b[38;5;28;01melif\u001b[39;00m \u001b[38;5;28mself\u001b[39m\u001b[38;5;241m.\u001b[39m_state \u001b[38;5;241m==\u001b[39m FINISHED:\n\u001b[0;32m--> 456\u001b[0m     \u001b[38;5;28;01mreturn\u001b[39;00m \u001b[38;5;28;43mself\u001b[39;49m\u001b[38;5;241;43m.\u001b[39;49m\u001b[43m__get_result\u001b[49m\u001b[43m(\u001b[49m\u001b[43m)\u001b[49m\n\u001b[1;32m    457\u001b[0m \u001b[38;5;28;01melse\u001b[39;00m:\n\u001b[1;32m    458\u001b[0m     \u001b[38;5;28;01mraise\u001b[39;00m \u001b[38;5;167;01mTimeoutError\u001b[39;00m()\n",
      "File \u001b[0;32m~/miniconda3/envs/23ai_rag_demo/lib/python3.12/concurrent/futures/_base.py:401\u001b[0m, in \u001b[0;36mFuture.__get_result\u001b[0;34m(self)\u001b[0m\n\u001b[1;32m    399\u001b[0m \u001b[38;5;28;01mif\u001b[39;00m \u001b[38;5;28mself\u001b[39m\u001b[38;5;241m.\u001b[39m_exception:\n\u001b[1;32m    400\u001b[0m     \u001b[38;5;28;01mtry\u001b[39;00m:\n\u001b[0;32m--> 401\u001b[0m         \u001b[38;5;28;01mraise\u001b[39;00m \u001b[38;5;28mself\u001b[39m\u001b[38;5;241m.\u001b[39m_exception\n\u001b[1;32m    402\u001b[0m     \u001b[38;5;28;01mfinally\u001b[39;00m:\n\u001b[1;32m    403\u001b[0m         \u001b[38;5;66;03m# Break a reference cycle with the exception in self._exception\u001b[39;00m\n\u001b[1;32m    404\u001b[0m         \u001b[38;5;28mself\u001b[39m \u001b[38;5;241m=\u001b[39m \u001b[38;5;28;01mNone\u001b[39;00m\n",
      "File \u001b[0;32m~/miniconda3/envs/23ai_rag_demo/lib/python3.12/concurrent/futures/thread.py:58\u001b[0m, in \u001b[0;36m_WorkItem.run\u001b[0;34m(self)\u001b[0m\n\u001b[1;32m     55\u001b[0m     \u001b[38;5;28;01mreturn\u001b[39;00m\n\u001b[1;32m     57\u001b[0m \u001b[38;5;28;01mtry\u001b[39;00m:\n\u001b[0;32m---> 58\u001b[0m     result \u001b[38;5;241m=\u001b[39m \u001b[38;5;28;43mself\u001b[39;49m\u001b[38;5;241;43m.\u001b[39;49m\u001b[43mfn\u001b[49m\u001b[43m(\u001b[49m\u001b[38;5;241;43m*\u001b[39;49m\u001b[38;5;28;43mself\u001b[39;49m\u001b[38;5;241;43m.\u001b[39;49m\u001b[43margs\u001b[49m\u001b[43m,\u001b[49m\u001b[43m \u001b[49m\u001b[38;5;241;43m*\u001b[39;49m\u001b[38;5;241;43m*\u001b[39;49m\u001b[38;5;28;43mself\u001b[39;49m\u001b[38;5;241;43m.\u001b[39;49m\u001b[43mkwargs\u001b[49m\u001b[43m)\u001b[49m\n\u001b[1;32m     59\u001b[0m \u001b[38;5;28;01mexcept\u001b[39;00m \u001b[38;5;167;01mBaseException\u001b[39;00m \u001b[38;5;28;01mas\u001b[39;00m exc:\n\u001b[1;32m     60\u001b[0m     \u001b[38;5;28mself\u001b[39m\u001b[38;5;241m.\u001b[39mfuture\u001b[38;5;241m.\u001b[39mset_exception(exc)\n",
      "File \u001b[0;32m~/miniconda3/envs/23ai_rag_demo/lib/python3.12/site-packages/langchain_core/retrievers.py:222\u001b[0m, in \u001b[0;36mBaseRetriever.invoke\u001b[0;34m(self, input, config, **kwargs)\u001b[0m\n\u001b[1;32m    220\u001b[0m \u001b[38;5;28;01mexcept\u001b[39;00m \u001b[38;5;167;01mException\u001b[39;00m \u001b[38;5;28;01mas\u001b[39;00m e:\n\u001b[1;32m    221\u001b[0m     run_manager\u001b[38;5;241m.\u001b[39mon_retriever_error(e)\n\u001b[0;32m--> 222\u001b[0m     \u001b[38;5;28;01mraise\u001b[39;00m e\n\u001b[1;32m    223\u001b[0m \u001b[38;5;28;01melse\u001b[39;00m:\n\u001b[1;32m    224\u001b[0m     run_manager\u001b[38;5;241m.\u001b[39mon_retriever_end(\n\u001b[1;32m    225\u001b[0m         result,\n\u001b[1;32m    226\u001b[0m     )\n",
      "File \u001b[0;32m~/miniconda3/envs/23ai_rag_demo/lib/python3.12/site-packages/langchain_core/retrievers.py:215\u001b[0m, in \u001b[0;36mBaseRetriever.invoke\u001b[0;34m(self, input, config, **kwargs)\u001b[0m\n\u001b[1;32m    213\u001b[0m _kwargs \u001b[38;5;241m=\u001b[39m kwargs \u001b[38;5;28;01mif\u001b[39;00m \u001b[38;5;28mself\u001b[39m\u001b[38;5;241m.\u001b[39m_expects_other_args \u001b[38;5;28;01melse\u001b[39;00m {}\n\u001b[1;32m    214\u001b[0m \u001b[38;5;28;01mif\u001b[39;00m \u001b[38;5;28mself\u001b[39m\u001b[38;5;241m.\u001b[39m_new_arg_supported:\n\u001b[0;32m--> 215\u001b[0m     result \u001b[38;5;241m=\u001b[39m \u001b[38;5;28;43mself\u001b[39;49m\u001b[38;5;241;43m.\u001b[39;49m\u001b[43m_get_relevant_documents\u001b[49m\u001b[43m(\u001b[49m\n\u001b[1;32m    216\u001b[0m \u001b[43m        \u001b[49m\u001b[38;5;28;43minput\u001b[39;49m\u001b[43m,\u001b[49m\u001b[43m \u001b[49m\u001b[43mrun_manager\u001b[49m\u001b[38;5;241;43m=\u001b[39;49m\u001b[43mrun_manager\u001b[49m\u001b[43m,\u001b[49m\u001b[43m \u001b[49m\u001b[38;5;241;43m*\u001b[39;49m\u001b[38;5;241;43m*\u001b[39;49m\u001b[43m_kwargs\u001b[49m\n\u001b[1;32m    217\u001b[0m \u001b[43m    \u001b[49m\u001b[43m)\u001b[49m\n\u001b[1;32m    218\u001b[0m \u001b[38;5;28;01melse\u001b[39;00m:\n\u001b[1;32m    219\u001b[0m     result \u001b[38;5;241m=\u001b[39m \u001b[38;5;28mself\u001b[39m\u001b[38;5;241m.\u001b[39m_get_relevant_documents(\u001b[38;5;28minput\u001b[39m, \u001b[38;5;241m*\u001b[39m\u001b[38;5;241m*\u001b[39m_kwargs)\n",
      "File \u001b[0;32m~/miniconda3/envs/23ai_rag_demo/lib/python3.12/site-packages/langchain_core/vectorstores/base.py:1151\u001b[0m, in \u001b[0;36mVectorStoreRetriever._get_relevant_documents\u001b[0;34m(self, query, run_manager)\u001b[0m\n\u001b[1;32m   1147\u001b[0m \u001b[38;5;28;01mdef\u001b[39;00m \u001b[38;5;21m_get_relevant_documents\u001b[39m(\n\u001b[1;32m   1148\u001b[0m     \u001b[38;5;28mself\u001b[39m, query: \u001b[38;5;28mstr\u001b[39m, \u001b[38;5;241m*\u001b[39m, run_manager: CallbackManagerForRetrieverRun\n\u001b[1;32m   1149\u001b[0m ) \u001b[38;5;241m-\u001b[39m\u001b[38;5;241m>\u001b[39m List[Document]:\n\u001b[1;32m   1150\u001b[0m     \u001b[38;5;28;01mif\u001b[39;00m \u001b[38;5;28mself\u001b[39m\u001b[38;5;241m.\u001b[39msearch_type \u001b[38;5;241m==\u001b[39m \u001b[38;5;124m\"\u001b[39m\u001b[38;5;124msimilarity\u001b[39m\u001b[38;5;124m\"\u001b[39m:\n\u001b[0;32m-> 1151\u001b[0m         docs \u001b[38;5;241m=\u001b[39m \u001b[38;5;28;43mself\u001b[39;49m\u001b[38;5;241;43m.\u001b[39;49m\u001b[43mvectorstore\u001b[49m\u001b[38;5;241;43m.\u001b[39;49m\u001b[43msimilarity_search\u001b[49m\u001b[43m(\u001b[49m\u001b[43mquery\u001b[49m\u001b[43m,\u001b[49m\u001b[43m \u001b[49m\u001b[38;5;241;43m*\u001b[39;49m\u001b[38;5;241;43m*\u001b[39;49m\u001b[38;5;28;43mself\u001b[39;49m\u001b[38;5;241;43m.\u001b[39;49m\u001b[43msearch_kwargs\u001b[49m\u001b[43m)\u001b[49m\n\u001b[1;32m   1152\u001b[0m     \u001b[38;5;28;01melif\u001b[39;00m \u001b[38;5;28mself\u001b[39m\u001b[38;5;241m.\u001b[39msearch_type \u001b[38;5;241m==\u001b[39m \u001b[38;5;124m\"\u001b[39m\u001b[38;5;124msimilarity_score_threshold\u001b[39m\u001b[38;5;124m\"\u001b[39m:\n\u001b[1;32m   1153\u001b[0m         docs_and_similarities \u001b[38;5;241m=\u001b[39m (\n\u001b[1;32m   1154\u001b[0m             \u001b[38;5;28mself\u001b[39m\u001b[38;5;241m.\u001b[39mvectorstore\u001b[38;5;241m.\u001b[39msimilarity_search_with_relevance_scores(\n\u001b[1;32m   1155\u001b[0m                 query, \u001b[38;5;241m*\u001b[39m\u001b[38;5;241m*\u001b[39m\u001b[38;5;28mself\u001b[39m\u001b[38;5;241m.\u001b[39msearch_kwargs\n\u001b[1;32m   1156\u001b[0m             )\n\u001b[1;32m   1157\u001b[0m         )\n",
      "File \u001b[0;32m~/miniconda3/envs/23ai_rag_demo/lib/python3.12/site-packages/langchain_community/vectorstores/oraclevs.py:636\u001b[0m, in \u001b[0;36mOracleVS.similarity_search\u001b[0;34m(self, query, k, filter, **kwargs)\u001b[0m\n\u001b[1;32m    634\u001b[0m \u001b[38;5;28;01mif\u001b[39;00m \u001b[38;5;28misinstance\u001b[39m(\u001b[38;5;28mself\u001b[39m\u001b[38;5;241m.\u001b[39membedding_function, Embeddings):\n\u001b[1;32m    635\u001b[0m     embedding \u001b[38;5;241m=\u001b[39m \u001b[38;5;28mself\u001b[39m\u001b[38;5;241m.\u001b[39membedding_function\u001b[38;5;241m.\u001b[39membed_query(query)\n\u001b[0;32m--> 636\u001b[0m documents \u001b[38;5;241m=\u001b[39m \u001b[38;5;28;43mself\u001b[39;49m\u001b[38;5;241;43m.\u001b[39;49m\u001b[43msimilarity_search_by_vector\u001b[49m\u001b[43m(\u001b[49m\n\u001b[1;32m    637\u001b[0m \u001b[43m    \u001b[49m\u001b[43membedding\u001b[49m\u001b[38;5;241;43m=\u001b[39;49m\u001b[43membedding\u001b[49m\u001b[43m,\u001b[49m\u001b[43m \u001b[49m\u001b[43mk\u001b[49m\u001b[38;5;241;43m=\u001b[39;49m\u001b[43mk\u001b[49m\u001b[43m,\u001b[49m\u001b[43m \u001b[49m\u001b[38;5;28;43mfilter\u001b[39;49m\u001b[38;5;241;43m=\u001b[39;49m\u001b[38;5;28;43mfilter\u001b[39;49m\u001b[43m,\u001b[49m\u001b[43m \u001b[49m\u001b[38;5;241;43m*\u001b[39;49m\u001b[38;5;241;43m*\u001b[39;49m\u001b[43mkwargs\u001b[49m\n\u001b[1;32m    638\u001b[0m \u001b[43m\u001b[49m\u001b[43m)\u001b[49m\n\u001b[1;32m    639\u001b[0m \u001b[38;5;28;01mreturn\u001b[39;00m documents\n",
      "File \u001b[0;32m~/miniconda3/envs/23ai_rag_demo/lib/python3.12/site-packages/langchain_community/vectorstores/oraclevs.py:648\u001b[0m, in \u001b[0;36mOracleVS.similarity_search_by_vector\u001b[0;34m(self, embedding, k, filter, **kwargs)\u001b[0m\n\u001b[1;32m    641\u001b[0m \u001b[38;5;28;01mdef\u001b[39;00m \u001b[38;5;21msimilarity_search_by_vector\u001b[39m(\n\u001b[1;32m    642\u001b[0m     \u001b[38;5;28mself\u001b[39m,\n\u001b[1;32m    643\u001b[0m     embedding: List[\u001b[38;5;28mfloat\u001b[39m],\n\u001b[0;32m   (...)\u001b[0m\n\u001b[1;32m    646\u001b[0m     \u001b[38;5;241m*\u001b[39m\u001b[38;5;241m*\u001b[39mkwargs: Any,\n\u001b[1;32m    647\u001b[0m ) \u001b[38;5;241m-\u001b[39m\u001b[38;5;241m>\u001b[39m List[Document]:\n\u001b[0;32m--> 648\u001b[0m     docs_and_scores \u001b[38;5;241m=\u001b[39m \u001b[38;5;28;43mself\u001b[39;49m\u001b[38;5;241;43m.\u001b[39;49m\u001b[43msimilarity_search_by_vector_with_relevance_scores\u001b[49m\u001b[43m(\u001b[49m\n\u001b[1;32m    649\u001b[0m \u001b[43m        \u001b[49m\u001b[43membedding\u001b[49m\u001b[38;5;241;43m=\u001b[39;49m\u001b[43membedding\u001b[49m\u001b[43m,\u001b[49m\u001b[43m \u001b[49m\u001b[43mk\u001b[49m\u001b[38;5;241;43m=\u001b[39;49m\u001b[43mk\u001b[49m\u001b[43m,\u001b[49m\u001b[43m \u001b[49m\u001b[38;5;28;43mfilter\u001b[39;49m\u001b[38;5;241;43m=\u001b[39;49m\u001b[38;5;28;43mfilter\u001b[39;49m\u001b[43m,\u001b[49m\u001b[43m \u001b[49m\u001b[38;5;241;43m*\u001b[39;49m\u001b[38;5;241;43m*\u001b[39;49m\u001b[43mkwargs\u001b[49m\n\u001b[1;32m    650\u001b[0m \u001b[43m    \u001b[49m\u001b[43m)\u001b[49m\n\u001b[1;32m    651\u001b[0m     \u001b[38;5;28;01mreturn\u001b[39;00m [doc \u001b[38;5;28;01mfor\u001b[39;00m doc, _ \u001b[38;5;129;01min\u001b[39;00m docs_and_scores]\n",
      "File \u001b[0;32m~/miniconda3/envs/23ai_rag_demo/lib/python3.12/site-packages/langchain_community/vectorstores/oraclevs.py:68\u001b[0m, in \u001b[0;36m_handle_exceptions.<locals>.wrapper\u001b[0;34m(*args, **kwargs)\u001b[0m\n\u001b[1;32m     65\u001b[0m \u001b[38;5;28;01mexcept\u001b[39;00m \u001b[38;5;167;01mException\u001b[39;00m \u001b[38;5;28;01mas\u001b[39;00m e:\n\u001b[1;32m     66\u001b[0m     \u001b[38;5;66;03m# Generic handler for all other exceptions\u001b[39;00m\n\u001b[1;32m     67\u001b[0m     logger\u001b[38;5;241m.\u001b[39mexception(\u001b[38;5;124m\"\u001b[39m\u001b[38;5;124mAn unexpected error occurred: \u001b[39m\u001b[38;5;132;01m{}\u001b[39;00m\u001b[38;5;124m\"\u001b[39m\u001b[38;5;241m.\u001b[39mformat(e))\n\u001b[0;32m---> 68\u001b[0m     \u001b[38;5;28;01mraise\u001b[39;00m \u001b[38;5;167;01mRuntimeError\u001b[39;00m(\u001b[38;5;124m\"\u001b[39m\u001b[38;5;124mUnexpected error: \u001b[39m\u001b[38;5;132;01m{}\u001b[39;00m\u001b[38;5;124m\"\u001b[39m\u001b[38;5;241m.\u001b[39mformat(e)) \u001b[38;5;28;01mfrom\u001b[39;00m \u001b[38;5;21;01me\u001b[39;00m\n",
      "\u001b[0;31mRuntimeError\u001b[0m: Unexpected error: ORA-51808: VECTOR_DISTANCE() is not supported for vectors with different dimension counts (4096, 1024).\nHelp: https://docs.oracle.com/error-help/db/ora-51808/"
     ]
    }
   ],
   "source": [
    "from langchain_community.chat_models.oci_generative_ai import ChatOCIGenAI\n",
    "from langchain_core.prompts import ChatPromptTemplate\n",
    "from langchain_core.output_parsers import StrOutputParser\n",
    "from langchain.schema.runnable import RunnablePassthrough, RunnableLambda\n",
    "\n",
    "chat = ChatOCIGenAI(\n",
    "    model_id=\"cohere.command-r-plus\",\n",
    "    service_endpoint=\"https://inference.generativeai.us-chicago-1.oci.oraclecloud.com\",\n",
    "    compartment_id=compartment_id,\n",
    "    model_kwargs={\"temperature\": 0.7, \"max_tokens\": 500, \"top_p\": 0.6}\n",
    ")\n",
    "\n",
    "message = [\n",
    "    (\n",
    "        \"system\",\n",
    "        \"\"\"\n",
    "        질문-답변 업무를 돕는 AI 어시스턴트입니다. \n",
    "        문서의 내용을 참고해서 답변해 주세요.:\n",
    "        \\n\\n\n",
    "        {context}\",\n",
    "        \"\"\"\n",
    "    ),\n",
    "    (\"human\", \"{human}\"),\n",
    "]\n",
    "\n",
    "prompt = ChatPromptTemplate.from_messages(message)\n",
    "\n",
    "chain = {\n",
    "\"context\": vector_store.as_retriever(search_kwargs={'k':3}),\n",
    "\"human\": RunnablePassthrough(),\n",
    "} | prompt | chat | StrOutputParser()\n",
    "\n",
    "s1time=time.time()\n",
    "response = chain.invoke(user_question)\n",
    "s2time=time.time()\n",
    "\n",
    "print( f\"response={response}\\nSend user question and ranked chunks to LLM and get answer duration: {round(s2time - s1time, 1)} sec.\")"
   ]
  },
  {
   "cell_type": "markdown",
   "id": "343fb447-8636-4811-8252-1c2426e4de2e",
   "metadata": {
    "jp-MarkdownHeadingCollapsed": true
   },
   "source": [
    "### 6. Langchain RAG\n",
    "#### SQL Retriver, cohere.command-r-plus LLM 모델 사용"
   ]
  },
  {
   "cell_type": "code",
   "execution_count": 33,
   "id": "3af32805-76c0-40f5-9079-3f056b2bd057",
   "metadata": {},
   "outputs": [
    {
     "name": "stdout",
     "output_type": "stream",
     "text": [
      "response=세계 최초의 AI 법은 2024년 3월 13일 유럽의회 본회의에서 통과되었습니다. 이 법은 EU 회원국의 승인을 얻어 올해 안에 발효될 예정이며, AI로 인한 잠재적 위험으로부터 기본권, 민주주의, 법치, 환경 지속 가능성을 보호하는 것을 목표로 합니다.\n",
      "Send user question and ranked chunks to LLM and get answer duration: 3.0 sec.\n"
     ]
    }
   ],
   "source": [
    "import json\n",
    "\n",
    "embedder_params = {\"provider\": \"ocigenai\", \n",
    "                   \"credential_name\": \"YH_OCI_CRED\", \n",
    "                   \"url\": \"https://inference.generativeai.us-chicago-1.oci.oraclecloud.com/20231130/actions/embedText\", \n",
    "                   \"model\": \"cohere.embed-multilingual-v3.0\"}\n",
    "\n",
    "sql_query = f\"\"\"SELECT text, metadata \n",
    "FROM {table_name_with_strategy}\n",
    "ORDER BY vector_distance(\n",
    "    embedding, \n",
    "    (\n",
    "        SELECT TO_VECTOR(et.embed_vector) AS embed_vector \n",
    "        FROM DBMS_VECTOR_CHAIN.UTL_TO_EMBEDDINGS(\n",
    "            :query, \n",
    "            JSON(:embedder_params)\n",
    "        ) t, \n",
    "        JSON_TABLE (\n",
    "            t.column_value, \n",
    "            '$[*]' COLUMNS (\n",
    "                embed_id NUMBER PATH '$.embed_id', \n",
    "                embed_data VARCHAR2(4000) PATH '$.embed_data', \n",
    "                embed_vector CLOB PATH '$.embed_vector'\n",
    "            )\n",
    "        ) et\n",
    "    )\n",
    ", COSINE)\n",
    "FETCH FIRST 3 ROWS ONLY\n",
    "\"\"\"\n",
    "\n",
    "cur = connection.cursor()\n",
    "cur.execute(sql_query, {'query': user_question, 'embedder_params': json.dumps(embedder_params)})\n",
    "rows = cur.fetchall()\n",
    "\n",
    "documents = [Document(page_content=row[0]) if isinstance(row[0], str) else Document(page_content=row[0].read(), metadata=json.loads(row[1].read())) for row in rows]\n",
    "\n",
    "context = '\\n\\n'.join([d.page_content for d in documents])\n",
    "\n",
    "chat = ChatOCIGenAI(\n",
    "    model_id=\"cohere.command-r-plus\",\n",
    "    service_endpoint=\"https://inference.generativeai.us-chicago-1.oci.oraclecloud.com\",\n",
    "    compartment_id=\"ocid1.compartment.oc1..aaaaaaaal7ipgtkkohxxjdbgxmqap4jx3gloyd52f33ujv3thz45uwopjmna\",\n",
    "    model_kwargs={\"temperature\": 0.7, \"max_tokens\": 500, \"top_p\": 0.6},\n",
    ")\n",
    "\n",
    "message = [\n",
    "    (\n",
    "        \"system\",\n",
    "        \"\"\"\n",
    "        질문-답변 업무를 돕는 AI 어시스턴트입니다. \n",
    "        문서의 내용을 참고해서 답변해 주세요.:\n",
    "        \\n\\n\n",
    "        {context}\",\n",
    "        \"\"\"\n",
    "    ),\n",
    "    (\"human\", \"{human}\"),\n",
    "]\n",
    "prompt = ChatPromptTemplate.from_messages(message)\n",
    "\n",
    "chain = {\n",
    "    \"context\": RunnablePassthrough(),\n",
    "    \"human\": RunnablePassthrough()\n",
    "} | prompt | chat | StrOutputParser()\n",
    "\n",
    "s1time = time.time()\n",
    "response = chain.invoke({\n",
    "    \"human\": user_question,\n",
    "    \"context\": context  # pass context as a string here\n",
    "})\n",
    "s2time = time.time()\n",
    "\n",
    "print( f\"response={response}\\nSend user question and ranked chunks to LLM and get answer duration: {round(s2time - s1time, 1)} sec.\")"
   ]
  }
 ],
 "metadata": {
  "kernelspec": {
   "display_name": "Python 3 (ipykernel)",
   "language": "python",
   "name": "python3"
  },
  "language_info": {
   "codemirror_mode": {
    "name": "ipython",
    "version": 3
   },
   "file_extension": ".py",
   "mimetype": "text/x-python",
   "name": "python",
   "nbconvert_exporter": "python",
   "pygments_lexer": "ipython3",
   "version": "3.12.4"
  }
 },
 "nbformat": 4,
 "nbformat_minor": 5
}
