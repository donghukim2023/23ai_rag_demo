{
 "cells": [
  {
   "cell_type": "markdown",
   "id": "1e322051-e7df-4351-aed3-611861fd5ba7",
   "metadata": {},
   "source": [
    "## Oracle 23ai Vector Store와 Solar Mini Chat LLM을 활용한 RAG 구현"
   ]
  },
  {
   "cell_type": "markdown",
   "id": "f7f5854d-fef8-493e-8a5e-c92b6d4dab1b",
   "metadata": {
    "jp-MarkdownHeadingCollapsed": true,
    "scrolled": true
   },
   "source": [
    "### 1. Oracle Database 23ai 접속"
   ]
  },
  {
   "cell_type": "code",
   "execution_count": 65,
   "id": "1672590f-1923-4a5d-a01b-718a56bc4ca5",
   "metadata": {
    "scrolled": true
   },
   "outputs": [
    {
     "name": "stdout",
     "output_type": "stream",
     "text": [
      "\n",
      "Connected to the Oracle Database 23.4.\n",
      "\n"
     ]
    }
   ],
   "source": [
    "import os\n",
    "import time\n",
    "import oracledb\n",
    "import configparser\n",
    "config = configparser.ConfigParser()\n",
    "config.read(\"oci.env\")\n",
    "\n",
    "username = config[\"DATABASE\"][\"USERNAME\"]\n",
    "password = config[\"DATABASE\"][\"PASSWORD\"]\n",
    "host = config[\"DATABASE\"][\"HOST\"]\n",
    "port = config[\"DATABASE\"][\"PORT\"]\n",
    "service_name = config[\"DATABASE\"][\"SERVICE_NAME\"]\n",
    "table_name = config[\"DATABASE\"][\"TABLE_NAME_CV_LANG\"]\n",
    "compartment_id = config[\"OCI\"][\"compartment_id\"]\n",
    "dsn=host+\":\"+port+\"/\"+service_name\n",
    "upstage_api_key=config[\"APIKEY\"][\"UPSTAGE_API_KEY\"]\n",
    "\n",
    "try:\n",
    "    oracledb.init_oracle_client()\n",
    "    connection = oracledb.connect(user=username, password=password, dsn=dsn)\n",
    "    print(\"\\nConnected to the Oracle Database 23.4.\\n\")\n",
    "except Exception as e:\n",
    "    print(e)\n",
    "    print(\"\\nConnection failed!\\n\")\n",
    "    "
   ]
  },
  {
   "cell_type": "markdown",
   "id": "f30e9a87-0d8f-489b-b3af-7b2931c21a1f",
   "metadata": {
    "jp-MarkdownHeadingCollapsed": true
   },
   "source": [
    "### 2. Load the document\n",
    "#### 텍스트 추출: UpstageLayoutAnalysisLoader, RecursiveCharacterTextSplitter"
   ]
  },
  {
   "cell_type": "code",
   "execution_count": 66,
   "id": "a8f0215b-a352-49f1-806d-fb6468ca28b2",
   "metadata": {
    "scrolled": true
   },
   "outputs": [
    {
     "name": "stdout",
     "output_type": "stream",
     "text": [
      "Number of pages loaded: 21\n",
      "Doc 1: chunks# 115\n",
      "Doc 1: page_content: page_content='<p id='5' data-category='paragraph' style='font-size:18px'>2. 기업/산업</p> <br><p id='6' data-category='list' style='font-size:14px'>▹ 스태빌리티AI, 차세대 이미지 생성 AI ‘스테이블 디퓨전 3’ 프리뷰 버전 공개 ················· 7<br>▹ 오픈AI, 일론 머스크의 소송과 정부 조사, 저작권 소송으로 법적 부담 증가 ···················· 8<br>▹ 휴머노이드 로봇 스타트업 피규어, 오픈AI의 기술 접목한 ‘피규어01’ 로봇 시연 ············· 9<br>▹ 일론 머스크의 xAI, AI 챗봇 ‘그록’을 오픈소스로 공개 ···················································· 10</p> <br>' metadata={'page': 2} metadata: {'SOURCE MIME TYPE': 'application/pdf', 'creation date': '4/8/2024 12:46:55 AM', 'author': 'spri', 'revision date': '4/8/2024 12:46:55 AM', 'Creator': '\\rHwp 2018 10.0.0.13764', 'publisher': 'Hancom PDF 1.3.0.542', 'PDFVersion': '\\r1.4', '_oid': '6692b6706aa918ee066f7ec26e173d99', '_file': '/home/opc/23ai_rag_demo/app/pdfs/SPRi_AI_Brief_4.pdf', 'id': '324', 'document_id': '1'}\n"
     ]
    }
   ],
   "source": [
    "from langchain_upstage import UpstageLayoutAnalysisLoader\n",
    "from langchain_text_splitters import (Language, RecursiveCharacterTextSplitter)\n",
    "\n",
    "os.environ[\"UPSTAGE_API_KEY\"] = upstage_api_key\n",
    "\n",
    "pdf_file=\"/home/opc/23ai_rag_demo/app/pdfs/SPRi_AI_Brief_4.pdf\"\n",
    "\n",
    "chunks_with_mdata = []\n",
    "\n",
    "layzer = UpstageLayoutAnalysisLoader(pdf_file, split=\"page\")\n",
    "docs = layzer.load()  # or layzer.lazy_load()\n",
    "print(f\"Number of pages loaded: {len(docs)}\")\n",
    "\n",
    "text_splitter = RecursiveCharacterTextSplitter.from_language(\n",
    "    chunk_size=500, chunk_overlap=100, language=Language.HTML\n",
    ")\n",
    "\n",
    "chunks = text_splitter.split_documents(docs)\n",
    "\n",
    "print(f\"Doc {id}: chunks# {len(chunks)}\")\n",
    "\n",
    "for ic, chunk in enumerate(chunks, start=1):\n",
    "    counter += 1  \n",
    "    chunk_metadata = doc.metadata.copy()  \n",
    "    chunk_metadata['id'] = str(counter)  \n",
    "    chunk_metadata['document_id'] = str(document_num)\n",
    "    # chunk_metadata['document_summary'] = str(summ[0])\n",
    "    chunks_with_mdata.append(Document(page_content=str(chunk), metadata=chunk_metadata))\n",
    "\n",
    "print(f\"Doc {id}: page_content: { chunks_with_mdata[4].page_content} metadata: {chunks_with_mdata[4].metadata}\")"
   ]
  },
  {
   "cell_type": "markdown",
   "id": "65fce3db-42f8-4db3-8e23-393c26faba90",
   "metadata": {
    "jp-MarkdownHeadingCollapsed": true
   },
   "source": [
    "### 3. Embedding 및 벡터 데이터베이스에 입력\n",
    "#### Embedding Model: solar-embedding-1-large"
   ]
  },
  {
   "cell_type": "code",
   "execution_count": 67,
   "id": "2274184f-a487-43a5-86eb-8d8c8b0f0882",
   "metadata": {},
   "outputs": [
    {
     "name": "stdout",
     "output_type": "stream",
     "text": [
      "Documents loading, chunking and generating embeddings are complete.\n",
      "Vectorizing and inserting chunks duration: 22.4 sec.\n"
     ]
    }
   ],
   "source": [
    "from langchain_upstage import UpstageEmbeddings\n",
    "\n",
    "s1time = time.time()\n",
    "vector_store = OracleVS.from_documents(chunks_with_mdata, UpstageEmbeddings(model=\"solar-embedding-1-large\"), client=connection, table_name=table_name_with_strategy, distance_strategy=distance_strategy)\n",
    "\n",
    "### Create Oracle HNSW Index\n",
    "oraclevs.create_index(client=connection,vector_store=vector_store, params={\n",
    "    \"idx_name\": \"hnsw\"+table_name_with_strategy, \"idx_type\": \"HNSW\"\n",
    "})\n",
    "s2time = time.time()\n",
    "\n",
    "if vector_store is not None:\n",
    "    print( f\"Documents loading, chunking and generating embeddings are complete.\\nVectorizing and inserting chunks duration: {round(s2time - s1time, 1)} sec.\")\n",
    "else:\n",
    "    print(\"\\nFailed to get the VectorStore populated.\\n\")"
   ]
  },
  {
   "cell_type": "markdown",
   "id": "2eaaa53d-de0e-494d-979b-3618b1230d95",
   "metadata": {
    "jp-MarkdownHeadingCollapsed": true
   },
   "source": [
    "### 4. Retriever 생성 및 및 유사도 검색\n",
    "#### Embedding Model: OCI GenAI cohere.embed-multilingual-v3.0"
   ]
  },
  {
   "cell_type": "code",
   "execution_count": 68,
   "id": "2b4ed3f7-39de-4e37-91de-8b2d1140658c",
   "metadata": {},
   "outputs": [
    {
     "name": "stdout",
     "output_type": "stream",
     "text": [
      "result_chunks=[Document(metadata={'SOURCE MIME TYPE': 'application/pdf', 'creation date': '4/8/2024 12:46:55 AM', 'author': 'spri', 'revision date': '4/8/2024 12:46:55 AM', 'Creator': '\\rHwp 2018 10.0.0.13764', 'publisher': 'Hancom PDF 1.3.0.542', 'PDFVersion': '\\r1.4', '_oid': '6692b6706aa918ee066f7ec26e173d99', '_file': '/home/opc/23ai_rag_demo/app/pdfs/SPRi_AI_Brief_4.pdf', 'id': '322', 'document_id': '1'}, page_content=\"page_content='<p id='4' data-category='list' style='font-size:14px'>▹ 유럽의회 본회의에서 세계 최초의 AI 법 통과 ····································································· 1<br>▹ 유럽평의회, AI·인권·민주주의·법치에 관한 기본 협약에 합의 ············································· 2<br>▹ 프랑스 AI 위원회, 정부에 5년간 연 50억 유로의 AI 투자 권고 ······································· 3<br>▹ 뉴욕주를 비롯한 미국 주정부들, AI 선거조작 방지법안 추진 ············································· 4' metadata={'page': 2}\"), Document(metadata={'SOURCE MIME TYPE': 'application/pdf', 'creation date': '4/8/2024 12:46:55 AM', 'author': 'spri', 'revision date': '4/8/2024 12:46:55 AM', 'Creator': '\\rHwp 2018 10.0.0.13764', 'publisher': 'Hancom PDF 1.3.0.542', 'PDFVersion': '\\r1.4', '_oid': '6692b6706aa918ee066f7ec26e173d99', '_file': '/home/opc/23ai_rag_demo/app/pdfs/SPRi_AI_Brief_4.pdf', 'id': '330', 'document_id': '1'}, page_content=\"page_content='<table id='14' style='font-size:14px'><tr><td>1. 정책/법제</td><td>2. 기업/산업</td><td>3. 기술/연구</td><td>4. 인력/교육</td></tr></table> <br><h1 id='15' style='font-size:22px'>유럽의회 본회의에서 세계 최초의 AI 법 통과</h1> <br><h1 id='16' style='font-size:18px'>KEY Contents</h1> <p id='17' data-category='list' style='font-size:18px'>n 유럽의회에서 AI 법이 본회의 표결을 통과하여 EU 회원국 승인을 거쳐 올해 안에 발효<br>예정으로, 발효 후 단계적으로 도입되어 2년 후 전면 시행됨</p> <br>' metadata={'page': 4}\"), Document(metadata={'SOURCE MIME TYPE': 'application/pdf', 'creation date': '4/8/2024 12:46:55 AM', 'author': 'spri', 'revision date': '4/8/2024 12:46:55 AM', 'Creator': '\\rHwp 2018 10.0.0.13764', 'publisher': 'Hancom PDF 1.3.0.542', 'PDFVersion': '\\r1.4', '_oid': '6692b6706aa918ee066f7ec26e173d99', '_file': '/home/opc/23ai_rag_demo/app/pdfs/SPRi_AI_Brief_4.pdf', 'id': '331', 'document_id': '1'}, page_content=\"page_content='<p id='18' data-category='list' style='font-size:18px'>n EU 집행위 산하에 신설된 유럽 AI 사무국이 EU 회원국 전반에 걸쳐 AI 법의 일관된 적용을<br>위한 핵심적인 역할을 수행할 전망</p> <p id='19' data-category='paragraph' style='font-size:20px'>£ 유럽의회, 찬성 523표와 반대 46표의 압도적 찬성으로 AI 법(AI Act) 가결</p> <p id='20' data-category='list' style='font-size:18px'>n 유럽의회 본회의에서 2024년 3월 13일 AI 법을 찬성 523표, 반대 46표, 기권 49표의 압도적<br>찬성으로 가결했으며, EU 회원국 승인을 얻어 올해 안에 발효될 예정</p> <br>' metadata={'page': 4}\"), Document(metadata={'SOURCE MIME TYPE': 'application/pdf', 'creation date': '4/8/2024 12:46:55 AM', 'author': 'spri', 'revision date': '4/8/2024 12:46:55 AM', 'Creator': '\\rHwp 2018 10.0.0.13764', 'publisher': 'Hancom PDF 1.3.0.542', 'PDFVersion': '\\r1.4', '_oid': '6692b6706aa918ee066f7ec26e173d99', '_file': '/home/opc/23ai_rag_demo/app/pdfs/SPRi_AI_Brief_4.pdf', 'id': '336', 'document_id': '1'}, page_content=\"page_content='<p id='26' data-category='list' style='font-size:16px'>∙ AI 사무국은 신뢰할 수 있는 AI 개발과 사용을 지원하는 동시에 AI 위험 관리를 담당하며, 각 회원국의<br>규제 당국을 지원해 AI 법의 시행에서 핵심적인 역할을 수행<br>∙ AI 사무국은 AI 법 시행을 위해 AI 기업 및 기타 전문가 집단과 협력해 세부 규정을 담은 실행<br>가이드라인을 마련하고, AI 기업의 규정 위반 여부를 조사해 시정 조치를 요구할 계획</p> <br><p id='27' data-category='paragraph' style='font-size:14px'>☞ 출처 : European Parliament, Artificial Intelligence Act: MEPs adopt landmark law, 2024.03.13.<br>European Commission, European AI Office, 2024.02.21.</p>' metadata={'page': 4}\")]\n",
      "Search for the user question in the Oracle Database 23ai and return similar chunks duration: 0.5 sec.\n"
     ]
    }
   ],
   "source": [
    "vector_store = OracleVS(client=connection, \n",
    "                        embedding_function=UpstageEmbeddings(model=\"solar-embedding-1-large\"), \n",
    "                        table_name=table_name_with_strategy, \n",
    "                        distance_strategy=distance_strategy)\n",
    "\n",
    "user_question = (\"최초의 AI법은 언제 통과 되었니? 출처나 참고 문서도 같이 알려줘.\");\n",
    "\n",
    "if user_question:\n",
    "    s1time =  time.time()\n",
    "    result_chunks = vector_store.similarity_search(user_question)\n",
    "    s2time = time.time()\n",
    "    print(f\"result_chunks={result_chunks}\\nSearch for the user question in the Oracle Database 23ai and return similar chunks duration: {round(s2time - s1time, 1)} sec.\")\n"
   ]
  },
  {
   "cell_type": "markdown",
   "id": "b97e53dc-5aee-47f8-9b59-0cf65e23b878",
   "metadata": {
    "jp-MarkdownHeadingCollapsed": true
   },
   "source": [
    "### 5. Langchain RAG\n",
    "#### Vector Store Retriver, solar-1-mini-chat LLM 모델 사용"
   ]
  },
  {
   "cell_type": "code",
   "execution_count": 75,
   "id": "971941eb-2a13-4646-84f4-07651dc2c29f",
   "metadata": {},
   "outputs": [
    {
     "name": "stdout",
     "output_type": "stream",
     "text": [
      "response=최초의 AI법인 AI Act는 2024년 3월 13일에 유럽의회 본회의에서 통과되었습니다. 출처는 European Parliament의 \"Artificial Intelligence Act: MEPs adopt landmark law\"이며, 2024년 3월 13일에 발표되었습니다. 또한, European Commission의 \"European AI Office\"라는 문서에서도 2024년 2월 21일에 발표되어 관련 정보를 확인할 수 있습니다.\n",
      "Send user question and ranked chunks to LLM and get answer duration: 2.2 sec.\n",
      "Groundedness check result=grounded\n",
      "Groundedness check duration: 0.5 sec.\n"
     ]
    }
   ],
   "source": [
    "from langchain_upstage import ChatUpstage\n",
    "from langchain_core.prompts import ChatPromptTemplate\n",
    "from langchain_core.output_parsers import StrOutputParser\n",
    "from langchain.schema.runnable import RunnablePassthrough, RunnableLambda\n",
    "from openai import OpenAI\n",
    "\n",
    "chat = ChatUpstage(model=\"solar-1-mini-chat\")\n",
    "\n",
    "message = [\n",
    "    (\n",
    "        \"system\",\n",
    "        \"\"\"\n",
    "        질문-답변 업무를 돕는 AI 어시스턴트입니다. \n",
    "        문서의 내용을 참고해서 답변해 주세요.:\n",
    "        \\n\\n\n",
    "        {context}\",\n",
    "        \"\"\"\n",
    "    ),\n",
    "    (\"human\", \"{human}\"),\n",
    "]\n",
    "\n",
    "prompt = ChatPromptTemplate.from_messages(message)\n",
    "        \n",
    "chain = {\n",
    "    \"context\": vector_store.as_retriever(),\n",
    "    \"human\": RunnablePassthrough(),\n",
    "} | prompt | chat | StrOutputParser()\n",
    "\n",
    "s1time=time.time()\n",
    "response = chain.invoke(user_question)\n",
    "s2time=time.time()\n",
    "\n",
    "# Groundedness Check\n",
    "user_content = '\\n\\n'.join([d.page_content for d in vector_store.similarity_search(user_question)])\n",
    "\n",
    "upstage_client = OpenAI(\n",
    "    api_key=upstage_api_key,\n",
    "    base_url=\"https://api.upstage.ai/v1/solar\"\n",
    ")\n",
    "\n",
    "s3time=time.time()\n",
    "groundedness_check_response = upstage_client.chat.completions.create(\n",
    "    model=\"solar-1-mini-groundedness-check\",\n",
    "    messages=[\n",
    "        {\n",
    "          \"role\": \"user\",\n",
    "          \"content\": user_content\n",
    "        },\n",
    "        {\n",
    "          \"role\": \"assistant\",\n",
    "          \"content\": response\n",
    "        }\n",
    "    ]\n",
    ")\n",
    "s4time=time.time()\n",
    "\n",
    "print( f\"response={response}\\nSend user question and ranked chunks to LLM and get answer duration: {round(s2time - s1time, 1)} sec.\\nGroundedness check result={groundedness_check_response.choices[0].message.content}\\nGroundedness check duration: {round(s4time - s3time, 1)} sec.\")\n",
    "\n"
   ]
  }
 ],
 "metadata": {
  "kernelspec": {
   "display_name": "Python 3 (ipykernel)",
   "language": "python",
   "name": "python3"
  },
  "language_info": {
   "codemirror_mode": {
    "name": "ipython",
    "version": 3
   },
   "file_extension": ".py",
   "mimetype": "text/x-python",
   "name": "python",
   "nbconvert_exporter": "python",
   "pygments_lexer": "ipython3",
   "version": "3.12.4"
  }
 },
 "nbformat": 4,
 "nbformat_minor": 5
}
